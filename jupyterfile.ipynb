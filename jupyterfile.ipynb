
import pandas as pd

# %%
df=pd.read_csv("D:/Project/movies_content.csv")
df

# %%
df_new=df[["name","movie_id","language","description","director","writer","cast","genre"]]
df_new

# %%


# %%
df_new=df.dropna()
df_new

# %%
df_new['tag']=df_new.description + ' ' + df_new.language + ' ' + df_new.director + ' ' + df_new.writer + ' ' + df_new.cast + ' ' + df_new.genre

df_new=df_new.drop(['description','genre','language','cast','director','writer'],axis=1)
df_new['movie_id'] = df_new.movie_id
df_new

# %%
df_new['tag'] = df_new['tag'].fillna('').astype(str)
import numpy as np
from sklearn.feature_extraction.text import TfidfVectorizer
tf=TfidfVectorizer( lowercase=True)
X=tf.fit_transform(df_new.tag).toarray()

# %%
from sklearn.neighbors import NearestNeighbors
model = NearestNeighbors(n_neighbors=5, metric='cosine')
model.fit(X)

# %%
movie="Neerja"
if movie in df_new.name.values:
    movie_index=df_new[df_new.name==movie].index[0]
    movie_vector=X[movie_index]
    distances,indexes=model.kneighbors([movie_vector],n_neighbors=5)
    print(indexes[0][1:])
    for i in indexes[0][1:]:
        print(df_new.loc[i]['name'],df_new.loc[i].movie_id)
else:
    print('Movie not found,plese select different name')

# %%
import requests
resp=requests.get("http://www.omdbapi.com/?i=tt3896198&apikey=36279439")
resp.json()['Poster']

# %%
import joblib
joblib.dump(df_new,"movie_df.pkl")
joblib.dump(model,"movie_model.pkl")
joblib.dump(X,"movie_vectors.pkl")

# %%



